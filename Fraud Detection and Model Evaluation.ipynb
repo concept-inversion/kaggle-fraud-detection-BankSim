{
 "cells": [
  {
   "cell_type": "code",
   "execution_count": 139,
   "metadata": {},
   "outputs": [],
   "source": [
    "import pandas as pd\n",
    "import matplotlib.pyplot as plt\n",
    "from sklearn.model_selection import train_test_split,KFold\n",
    "from sklearn.ensemble import RandomForestClassifier\n",
    "from operator import itemgetter\n",
    "import numpy as np\n",
    "from sklearn.metrics import roc_curve\n",
    "from sklearn.preprocessing import OneHotEncoder"
   ]
  },
  {
   "cell_type": "code",
   "execution_count": 2,
   "metadata": {},
   "outputs": [
    {
     "data": {
      "text/html": [
       "<div>\n",
       "<style scoped>\n",
       "    .dataframe tbody tr th:only-of-type {\n",
       "        vertical-align: middle;\n",
       "    }\n",
       "\n",
       "    .dataframe tbody tr th {\n",
       "        vertical-align: top;\n",
       "    }\n",
       "\n",
       "    .dataframe thead th {\n",
       "        text-align: right;\n",
       "    }\n",
       "</style>\n",
       "<table border=\"1\" class=\"dataframe\">\n",
       "  <thead>\n",
       "    <tr style=\"text-align: right;\">\n",
       "      <th></th>\n",
       "      <th>step</th>\n",
       "      <th>customer</th>\n",
       "      <th>age</th>\n",
       "      <th>gender</th>\n",
       "      <th>merchant</th>\n",
       "      <th>category</th>\n",
       "      <th>amount</th>\n",
       "      <th>fraud</th>\n",
       "    </tr>\n",
       "  </thead>\n",
       "  <tbody>\n",
       "    <tr>\n",
       "      <th>0</th>\n",
       "      <td>0</td>\n",
       "      <td>C1093826151</td>\n",
       "      <td>4</td>\n",
       "      <td>M</td>\n",
       "      <td>M348934600</td>\n",
       "      <td>es_transportation</td>\n",
       "      <td>4.55</td>\n",
       "      <td>0</td>\n",
       "    </tr>\n",
       "    <tr>\n",
       "      <th>1</th>\n",
       "      <td>0</td>\n",
       "      <td>C352968107</td>\n",
       "      <td>2</td>\n",
       "      <td>M</td>\n",
       "      <td>M348934600</td>\n",
       "      <td>es_transportation</td>\n",
       "      <td>39.68</td>\n",
       "      <td>0</td>\n",
       "    </tr>\n",
       "  </tbody>\n",
       "</table>\n",
       "</div>"
      ],
      "text/plain": [
       "   step     customer age gender    merchant           category  amount  fraud\n",
       "0     0  C1093826151   4      M  M348934600  es_transportation    4.55      0\n",
       "1     0   C352968107   2      M  M348934600  es_transportation   39.68      0"
      ]
     },
     "execution_count": 2,
     "metadata": {},
     "output_type": "execute_result"
    }
   ],
   "source": [
    "df = pd.read_csv('data/processed_final.csv')\n",
    "df.head(2)"
   ]
  },
  {
   "cell_type": "code",
   "execution_count": 3,
   "metadata": {},
   "outputs": [],
   "source": [
    "Y = df['fraud']\n",
    "Y = Y.astype(\"category\").cat.codes"
   ]
  },
  {
   "cell_type": "code",
   "execution_count": 12,
   "metadata": {},
   "outputs": [
    {
     "data": {
      "text/html": [
       "<div>\n",
       "<style scoped>\n",
       "    .dataframe tbody tr th:only-of-type {\n",
       "        vertical-align: middle;\n",
       "    }\n",
       "\n",
       "    .dataframe tbody tr th {\n",
       "        vertical-align: top;\n",
       "    }\n",
       "\n",
       "    .dataframe thead th {\n",
       "        text-align: right;\n",
       "    }\n",
       "</style>\n",
       "<table border=\"1\" class=\"dataframe\">\n",
       "  <thead>\n",
       "    <tr style=\"text-align: right;\">\n",
       "      <th></th>\n",
       "      <th>step</th>\n",
       "      <th>customer</th>\n",
       "      <th>age</th>\n",
       "      <th>gender</th>\n",
       "      <th>merchant</th>\n",
       "      <th>category</th>\n",
       "      <th>amount</th>\n",
       "    </tr>\n",
       "  </thead>\n",
       "  <tbody>\n",
       "    <tr>\n",
       "      <th>0</th>\n",
       "      <td>0</td>\n",
       "      <td>210</td>\n",
       "      <td>4</td>\n",
       "      <td>2</td>\n",
       "      <td>30</td>\n",
       "      <td>12</td>\n",
       "      <td>455</td>\n",
       "    </tr>\n",
       "  </tbody>\n",
       "</table>\n",
       "</div>"
      ],
      "text/plain": [
       "   step  customer  age  gender  merchant  category  amount\n",
       "0     0       210    4       2        30        12     455"
      ]
     },
     "execution_count": 12,
     "metadata": {},
     "output_type": "execute_result"
    }
   ],
   "source": [
    "X = df.drop(['fraud'],axis=1)\n",
    "for columns in X:\n",
    "    X[columns] = X[columns].astype('category').cat.codes\n",
    "X.head(1)"
   ]
  },
  {
   "cell_type": "code",
   "execution_count": 14,
   "metadata": {},
   "outputs": [],
   "source": [
    "X_train, X_test, y_train, y_test = train_test_split(X, Y, test_size=0.3, random_state=42)"
   ]
  },
  {
   "cell_type": "code",
   "execution_count": 91,
   "metadata": {},
   "outputs": [],
   "source": [
    "def RandomForestC(X_train,X_test,y_train,y_test,n_estimators=10,max_features='auto',max_depth=None,criterion='gini',n_jobs=-1):\n",
    "    model= RandomForestClassifier(n_estimators=n_estimators,\n",
    "                                 max_features=max_features,\n",
    "                                  max_depth=max_depth,\n",
    "                                  n_jobs=n_jobs,\n",
    "                                 criterion = criterion\n",
    "                                 )\n",
    "    model.fit(X_train,y_train.ravel())\n",
    "    score = model.score(X_test,y_test.ravel())\n",
    "    return(model,score)"
   ]
  },
  {
   "cell_type": "code",
   "execution_count": 93,
   "metadata": {},
   "outputs": [
    {
     "data": {
      "text/plain": [
       "0.9959975783667429"
      ]
     },
     "execution_count": 93,
     "metadata": {},
     "output_type": "execute_result"
    }
   ],
   "source": [
    "model,score = RandomForestC(X_train,X_test, y_train ,y_test)\n",
    "score"
   ]
  },
  {
   "cell_type": "code",
   "execution_count": 84,
   "metadata": {},
   "outputs": [],
   "source": [
    "def importance_bar_graph(model,x_data):\n",
    "    importance=model.feature_importances_\n",
    "    result=sorted(zip(importance,x_data),reverse=True)\n",
    "    plt.title('Feature Importance')\n",
    "    plt.bar(range(x_data.shape[1]),[each[0] for each in result],color='g',align='center')\n",
    "    plt.xticks(range(X.shape[1]),[each[1] for each in result],rotation=\"30\")\n",
    "    plt.xlim([-1,x_data.shape[1]])\n",
    "    plt.show()"
   ]
  },
  {
   "cell_type": "code",
   "execution_count": 85,
   "metadata": {},
   "outputs": [
    {
     "data": {
      "image/png": "[encoded data removed]",
      "text/plain": [
       "<Figure size 432x288 with 1 Axes>"
      ]
     },
     "metadata": {},
     "output_type": "display_data"
    }
   ],
   "source": [
    "importance_bar_graph(model,X)"
   ]
  },
  {
   "cell_type": "code",
   "execution_count": 141,
   "metadata": {},
   "outputs": [
    {
     "name": "stdout",
     "output_type": "stream",
     "text": [
      "[2 1 0]\n"
     ]
    }
   ],
   "source": [
    "# Compute ROC curve and ROC area for each class\n",
    "#y_predict = model.predict(X_test).tolist()\n",
    "y_predict =model.predict(X_test).tolist()\n",
    "fpr,tpr,thresholds=roc_curve(y_predict,list(y_test))\n",
    "print(thresholds)\n",
    "roc_auc = auc(fpr,tpr)\n",
    "\n",
    "# confus_matr=confusion_matrix(y_predict,list(y_test))\n",
    "# TP = confus_matr[0][0] # True Positive\n",
    "# FN = confus_matr[0][1] # False Negative\n",
    "# FP = confus_matr[1][0] # False Positive\n",
    "# TN = confus_matr[1][1] # True Negative"
   ]
  },
  {
   "cell_type": "code",
   "execution_count": 142,
   "metadata": {},
   "outputs": [
    {
     "data": {
      "image/png": "[encoded data removed]",
      "text/plain": [
       "<Figure size 432x288 with 1 Axes>"
      ]
     },
     "metadata": {},
     "output_type": "display_data"
    }
   ],
   "source": [
    "plt.title('Receiver Operating Characteristic')\n",
    "plt.plot(fpr, tpr, 'b',\n",
    "label='AUC = %0.2f'% roc_auc)\n",
    "plt.legend(loc='lower right')\n",
    "plt.plot([0,1],[0,1],'r--')\n",
    "plt.xlim([-0.1,1.2])\n",
    "plt.ylim([-0.1,1.2])\n",
    "plt.ylabel('True Positive Rate')\n",
    "plt.xlabel('False Positive Rate')\n",
    "plt.show()"
   ]
  },
  {
   "cell_type": "markdown",
   "metadata": {},
   "source": [
    "# K Fold Cross Validation"
   ]
  },
  {
   "cell_type": "code",
   "execution_count": 88,
   "metadata": {},
   "outputs": [
    {
     "name": "stdout",
     "output_type": "stream",
     "text": [
      "Accuracy: 0.9940470184643325\n",
      "Accuracy: 0.993777957151986\n",
      "Accuracy: 0.994517875760939\n",
      "Accuracy: 0.9964011839095923\n",
      "Accuracy: 0.9950221983048567\n",
      "Accuracy: 0.9957621418000807\n",
      "Accuracy: 0.9951230996905691\n",
      "Accuracy: 0.9957285080048432\n",
      "Accuracy: 0.99630028252388\n",
      "Accuracy: 0.9959975783667429\n",
      "Accuracy: 0.9954258038477062\n",
      "Accuracy: 0.9952912686667563\n",
      "Accuracy: 0.9960984797524552\n",
      "Accuracy: 0.996670254271492\n",
      "Accuracy: 0.9961321135476927\n",
      "Accuracy: 0.9958966769810306\n",
      "Accuracy: 0.9970065922238666\n",
      "Accuracy: 0.9960312121619803\n",
      "Accuracy: 0.9959975783667429\n",
      "Accuracy: 0.9963675501143548\n",
      "avg score: 0.9956797686955949\n"
     ]
    }
   ],
   "source": [
    "kf=KFold(n_splits=20,random_state=True)\n",
    "scorelist =[]\n",
    "for train_index,test_index in kf.split(X):\n",
    "    X_train, X_test, y_train, y_test = X.iloc[train_index],X.iloc[test_index],Y.iloc[train_index],Y.iloc[test_index]\n",
    "    model,score = RandomForestC(X_train,X_test, y_train ,y_test)\n",
    "    scorelist.append(score)\n",
    "    print(\"Accuracy:\" ,score)\n",
    "print(\"avg score:\", np.mean(scorelist))\n",
    "    "
   ]
  },
  {
   "cell_type": "code",
   "execution_count": null,
   "metadata": {},
   "outputs": [],
   "source": []
  }
 ],
 "metadata": {
  "kernelspec": {
   "display_name": "Python 3",
   "language": "python",
   "name": "python3"
  },
  "language_info": {
   "codemirror_mode": {
    "name": "ipython",
    "version": 3
   },
   "file_extension": ".py",
   "mimetype": "text/x-python",
   "name": "python",
   "nbconvert_exporter": "python",
   "pygments_lexer": "ipython3",
   "version": "3.6.5"
  }
 },
 "nbformat": 4,
 "nbformat_minor": 2
}
